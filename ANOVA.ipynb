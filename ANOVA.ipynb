{
 "cells": [
  {
   "cell_type": "code",
   "execution_count": 1,
   "id": "5bba8c98-54fd-4bcb-a6c8-1f27e90d6047",
   "metadata": {},
   "outputs": [
    {
     "name": "stdout",
     "output_type": "stream",
     "text": [
      "Mean of Team A: 60.0\n",
      "Mean of Team B: 64.0\n",
      "Mean of Team C: 61.0\n",
      "Grand Mean: 61.666666666666664\n",
      "SSB: 43.333333333333336\n",
      "SSW: 380.0\n",
      "MSB: 21.666666666666668\n",
      "MSW: 31.666666666666668\n",
      "F-statistic: 0.6842105263157895\n",
      "Fail to reject the null hypothesis.\n"
     ]
    }
   ],
   "source": [
    "# Data\n",
    "team_a = [50, 55, 60, 65, 70]\n",
    "team_b = [60, 62, 64, 66, 68]\n",
    "team_c = [55, 58, 61, 64, 67]\n",
    "\n",
    "# Number of observations in each group\n",
    "n_a = len(team_a)\n",
    "n_b = len(team_b)\n",
    "n_c = len(team_c)\n",
    "n_total = n_a + n_b + n_c\n",
    "\n",
    "# Means of each group\n",
    "mean_a = sum(team_a) / n_a\n",
    "mean_b = sum(team_b) / n_b\n",
    "mean_c = sum(team_c) / n_c\n",
    "\n",
    "# Grand Mean\n",
    "total_sum = sum(team_a) + sum(team_b) + sum(team_c)\n",
    "grand_mean = total_sum / n_total\n",
    "\n",
    "# Sum of Squares Between Groups (SSB)\n",
    "ssb_a = n_a * (mean_a - grand_mean) ** 2\n",
    "ssb_b = n_b * (mean_b - grand_mean) ** 2\n",
    "ssb_c = n_c * (mean_c - grand_mean) ** 2\n",
    "ssb = ssb_a + ssb_b + ssb_c\n",
    "\n",
    "# Sum of Squares Within Groups (SSW)\n",
    "# For team A\n",
    "ssw_a = sum([(x - mean_a) ** 2 for x in team_a])\n",
    "# For team B\n",
    "ssw_b = sum([(x - mean_b) ** 2 for x in team_b])\n",
    "# For team C\n",
    "ssw_c = sum([(x - mean_c) ** 2 for x in team_c])\n",
    "ssw = ssw_a + ssw_b + ssw_c\n",
    "\n",
    "# Degrees of freedom\n",
    "df_between = 3 - 1  # k - 1\n",
    "df_within = n_total - 3  # N - k\n",
    "\n",
    "# Mean Squares\n",
    "msb = ssb / df_between\n",
    "msw = ssw / df_within\n",
    "\n",
    "# F-statistic\n",
    "F = msb / msw\n",
    "\n",
    "print(\"Mean of Team A:\", mean_a)\n",
    "print(\"Mean of Team B:\", mean_b)\n",
    "print(\"Mean of Team C:\", mean_c)\n",
    "print(\"Grand Mean:\", grand_mean)\n",
    "print(\"SSB:\", ssb)\n",
    "print(\"SSW:\", ssw)\n",
    "print(\"MSB:\", msb)\n",
    "print(\"MSW:\", msw)\n",
    "print(\"F-statistic:\", F)\n",
    "\n",
    "# Critical F-value\n",
    "F_critical = 3.89\n",
    "\n",
    "# Decision\n",
    "if F > F_critical:\n",
    "    print(\"Reject the null hypothesis.\")\n",
    "else:\n",
    "    print(\"Fail to reject the null hypothesis.\")\n"
   ]
  },
  {
   "cell_type": "code",
   "execution_count": null,
   "id": "179bb576-6323-4ddb-af6c-37f2d1f9d874",
   "metadata": {},
   "outputs": [],
   "source": []
  }
 ],
 "metadata": {
  "kernelspec": {
   "display_name": "Python 3 (ipykernel)",
   "language": "python",
   "name": "python3"
  },
  "language_info": {
   "codemirror_mode": {
    "name": "ipython",
    "version": 3
   },
   "file_extension": ".py",
   "mimetype": "text/x-python",
   "name": "python",
   "nbconvert_exporter": "python",
   "pygments_lexer": "ipython3",
   "version": "3.11.7"
  }
 },
 "nbformat": 4,
 "nbformat_minor": 5
}
