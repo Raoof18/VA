{
 "cells": [
  {
   "cell_type": "code",
   "execution_count": 1,
   "id": "818b45ae-3bd3-4048-8304-c82e19476b11",
   "metadata": {},
   "outputs": [
    {
     "name": "stdout",
     "output_type": "stream",
     "text": [
      "Group 1 Mean: 84.6\n",
      "Group 2 Mean: 82.8\n",
      "Group 1 Standard Deviation: 4.774934554525329\n",
      "Group 2 Standard Deviation: 5.449770637375485\n",
      "Pooled Standard Deviation: 5.123475382979799\n",
      "Standard Error: 3.24037034920393\n",
      "t-Statistic: 0.55549205986353\n",
      "Degrees of Freedom: 8\n",
      "Fail to reject the null hypothesis.\n",
      "There is no significant difference between the two groups.\n"
     ]
    }
   ],
   "source": [
    "# Data\n",
    "group1 = [78, 82, 85, 88, 90]\n",
    "group2 = [75, 80, 84, 86, 89]\n",
    "\n",
    "# Sample sizes\n",
    "n1 = len(group1)\n",
    "n2 = len(group2)\n",
    "\n",
    "# Sample means\n",
    "mean1 = sum(group1) / n1\n",
    "mean2 = sum(group2) / n2\n",
    "\n",
    "# Sum of squared deviations for Group 1\n",
    "ss1 = sum([(x - mean1) ** 2 for x in group1])\n",
    "\n",
    "# Variance and standard deviation for Group 1\n",
    "variance1 = ss1 / (n1 - 1)\n",
    "std_dev1 = variance1 ** 0.5\n",
    "\n",
    "# Sum of squared deviations for Group 2\n",
    "ss2 = sum([(x - mean2) ** 2 for x in group2])\n",
    "\n",
    "# Variance and standard deviation for Group 2\n",
    "variance2 = ss2 / (n2 - 1)\n",
    "std_dev2 = variance2 ** 0.5\n",
    "\n",
    "# Pooled standard deviation\n",
    "sp_squared = ((n1 - 1) * variance1 + (n2 - 1) * variance2) / (n1 + n2 - 2)\n",
    "sp = sp_squared ** 0.5\n",
    "\n",
    "# Standard Error\n",
    "SE = sp * ((1 / n1 + 1 / n2) ** 0.5)\n",
    "\n",
    "# t-Statistic\n",
    "t_statistic = (mean1 - mean2) / SE\n",
    "\n",
    "# Degrees of freedom\n",
    "df = n1 + n2 - 2\n",
    "\n",
    "# Critical t-value\n",
    "t_critical = 2.306  # Given in the problem for df=8 at 5% significance level\n",
    "\n",
    "# Output\n",
    "print(\"Group 1 Mean:\", mean1)\n",
    "print(\"Group 2 Mean:\", mean2)\n",
    "print(\"Group 1 Standard Deviation:\", std_dev1)\n",
    "print(\"Group 2 Standard Deviation:\", std_dev2)\n",
    "print(\"Pooled Standard Deviation:\", sp)\n",
    "print(\"Standard Error:\", SE)\n",
    "print(\"t-Statistic:\", t_statistic)\n",
    "print(\"Degrees of Freedom:\", df)\n",
    "\n",
    "# Decision\n",
    "if abs(t_statistic) > t_critical:\n",
    "    print(\"Reject the null hypothesis.\")\n",
    "    print(\"There is a significant difference between the two groups.\")\n",
    "else:\n",
    "    print(\"Fail to reject the null hypothesis.\")\n",
    "    print(\"There is no significant difference between the two groups.\")\n"
   ]
  },
  {
   "cell_type": "code",
   "execution_count": null,
   "id": "1df093cb-671d-4270-9bb7-8d47176d1d9e",
   "metadata": {},
   "outputs": [],
   "source": []
  }
 ],
 "metadata": {
  "kernelspec": {
   "display_name": "Python 3 (ipykernel)",
   "language": "python",
   "name": "python3"
  },
  "language_info": {
   "codemirror_mode": {
    "name": "ipython",
    "version": 3
   },
   "file_extension": ".py",
   "mimetype": "text/x-python",
   "name": "python",
   "nbconvert_exporter": "python",
   "pygments_lexer": "ipython3",
   "version": "3.11.7"
  }
 },
 "nbformat": 4,
 "nbformat_minor": 5
}
